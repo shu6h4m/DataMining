{
  "nbformat": 4,
  "nbformat_minor": 0,
  "metadata": {
    "colab": {
      "name": "DataMining_A1.ipynb",
      "provenance": [],
      "authorship_tag": "ABX9TyPmn9BD+g7wzj3GczvusyTE",
      "include_colab_link": true
    },
    "kernelspec": {
      "name": "python3",
      "display_name": "Python 3"
    },
    "language_info": {
      "name": "python"
    }
  },
  "cells": [
    {
      "cell_type": "markdown",
      "metadata": {
        "id": "view-in-github",
        "colab_type": "text"
      },
      "source": [
        "<a href=\"https://colab.research.google.com/github/shu6h4m/DataMining/blob/main/DataMining_A1.ipynb\" target=\"_parent\"><img src=\"https://colab.research.google.com/assets/colab-badge.svg\" alt=\"Open In Colab\"/></a>"
      ]
    },
    {
      "cell_type": "markdown",
      "metadata": {
        "id": "hYm3-2KWWLa5"
      },
      "source": [
        "# **Assignment 1** : To compare the performance of three models:\n",
        "## 1) Decision Tree\n",
        "## 2) K-NN\n",
        "## 3) Bayesian classifier"
      ]
    },
    {
      "cell_type": "code",
      "metadata": {
        "id": "HRy7n6txd4Kf"
      },
      "source": [
        "#Importing all the required libraries\n",
        "\n",
        "import numpy as np\n",
        "import pandas as pd\n",
        "import matplotlib.pyplot as plt\n",
        "import seaborn as sns\n",
        "from sklearn.model_selection import train_test_split\n",
        "from sklearn.ensemble import RandomForestClassifier\n",
        "from sklearn.model_selection import GridSearchCV\n",
        "from sklearn.model_selection import cross_val_score\n",
        "from sklearn.metrics import confusion_matrix, f1_score, classification_report \n",
        "from sklearn.tree import DecisionTreeClassifier\n",
        "from sklearn.neighbors import KNeighborsClassifier\n",
        "from sklearn.metrics import classification_report\n",
        "from sklearn.compose import ColumnTransformer\n",
        "from sklearn import naive_bayes\n",
        "from sklearn.preprocessing import OneHotEncoder, LabelEncoder,StandardScaler\n",
        "from sklearn.tree import plot_tree"
      ],
      "execution_count": 68,
      "outputs": []
    },
    {
      "cell_type": "markdown",
      "metadata": {
        "id": "LbQNVwv0eImM"
      },
      "source": [
        "## Dataset Used : Drug Classification, to check [Click Here](https://www.kaggle.com/prathamtripathi/drug-classification) !\n",
        "### Let's load this Dataset.. ☺"
      ]
    },
    {
      "cell_type": "code",
      "metadata": {
        "colab": {
          "base_uri": "https://localhost:8080/",
          "height": 206
        },
        "id": "ddAGNgHhfZIk",
        "outputId": "d8c6aff4-75fe-421b-a04d-5ff0c797b7ed"
      },
      "source": [
        "shu6h4m = 'https://raw.githubusercontent.com/shu6h4m/DataMining/main/drug200.csv'\n",
        "df = pd.read_csv(shu6h4m)\n",
        "\n",
        "#Loading Head\n",
        "df.head()"
      ],
      "execution_count": null,
      "outputs": [
        {
          "output_type": "execute_result",
          "data": {
            "text/html": [
              "<div>\n",
              "<style scoped>\n",
              "    .dataframe tbody tr th:only-of-type {\n",
              "        vertical-align: middle;\n",
              "    }\n",
              "\n",
              "    .dataframe tbody tr th {\n",
              "        vertical-align: top;\n",
              "    }\n",
              "\n",
              "    .dataframe thead th {\n",
              "        text-align: right;\n",
              "    }\n",
              "</style>\n",
              "<table border=\"1\" class=\"dataframe\">\n",
              "  <thead>\n",
              "    <tr style=\"text-align: right;\">\n",
              "      <th></th>\n",
              "      <th>Age</th>\n",
              "      <th>Sex</th>\n",
              "      <th>BP</th>\n",
              "      <th>Cholesterol</th>\n",
              "      <th>Na_to_K</th>\n",
              "      <th>Drug</th>\n",
              "    </tr>\n",
              "  </thead>\n",
              "  <tbody>\n",
              "    <tr>\n",
              "      <th>0</th>\n",
              "      <td>23</td>\n",
              "      <td>F</td>\n",
              "      <td>HIGH</td>\n",
              "      <td>HIGH</td>\n",
              "      <td>25.355</td>\n",
              "      <td>DrugY</td>\n",
              "    </tr>\n",
              "    <tr>\n",
              "      <th>1</th>\n",
              "      <td>47</td>\n",
              "      <td>M</td>\n",
              "      <td>LOW</td>\n",
              "      <td>HIGH</td>\n",
              "      <td>13.093</td>\n",
              "      <td>drugC</td>\n",
              "    </tr>\n",
              "    <tr>\n",
              "      <th>2</th>\n",
              "      <td>47</td>\n",
              "      <td>M</td>\n",
              "      <td>LOW</td>\n",
              "      <td>HIGH</td>\n",
              "      <td>10.114</td>\n",
              "      <td>drugC</td>\n",
              "    </tr>\n",
              "    <tr>\n",
              "      <th>3</th>\n",
              "      <td>28</td>\n",
              "      <td>F</td>\n",
              "      <td>NORMAL</td>\n",
              "      <td>HIGH</td>\n",
              "      <td>7.798</td>\n",
              "      <td>drugX</td>\n",
              "    </tr>\n",
              "    <tr>\n",
              "      <th>4</th>\n",
              "      <td>61</td>\n",
              "      <td>F</td>\n",
              "      <td>LOW</td>\n",
              "      <td>HIGH</td>\n",
              "      <td>18.043</td>\n",
              "      <td>DrugY</td>\n",
              "    </tr>\n",
              "  </tbody>\n",
              "</table>\n",
              "</div>"
            ],
            "text/plain": [
              "   Age Sex      BP Cholesterol  Na_to_K   Drug\n",
              "0   23   F    HIGH        HIGH   25.355  DrugY\n",
              "1   47   M     LOW        HIGH   13.093  drugC\n",
              "2   47   M     LOW        HIGH   10.114  drugC\n",
              "3   28   F  NORMAL        HIGH    7.798  drugX\n",
              "4   61   F     LOW        HIGH   18.043  DrugY"
            ]
          },
          "metadata": {},
          "execution_count": 19
        }
      ]
    },
    {
      "cell_type": "code",
      "metadata": {
        "colab": {
          "base_uri": "https://localhost:8080/"
        },
        "id": "7GKgOp2Xkbq_",
        "outputId": "245f8f95-bdb0-48f5-d9b2-f424e138a3b9"
      },
      "source": [
        "#Total Records and attributes\n",
        "df.shape"
      ],
      "execution_count": null,
      "outputs": [
        {
          "output_type": "execute_result",
          "data": {
            "text/plain": [
              "(200, 6)"
            ]
          },
          "metadata": {},
          "execution_count": 20
        }
      ]
    },
    {
      "cell_type": "code",
      "metadata": {
        "colab": {
          "base_uri": "https://localhost:8080/"
        },
        "id": "LzXkY68UkqnY",
        "outputId": "5d503264-b1ad-45e3-d481-901074cd1a05"
      },
      "source": [
        "#So there are 200 records and 6 attributes in the Dataset\n",
        "#Now let's check other info about this dataset\n",
        "df.info()"
      ],
      "execution_count": null,
      "outputs": [
        {
          "output_type": "stream",
          "name": "stdout",
          "text": [
            "<class 'pandas.core.frame.DataFrame'>\n",
            "RangeIndex: 200 entries, 0 to 199\n",
            "Data columns (total 6 columns):\n",
            " #   Column       Non-Null Count  Dtype  \n",
            "---  ------       --------------  -----  \n",
            " 0   Age          200 non-null    int64  \n",
            " 1   Sex          200 non-null    object \n",
            " 2   BP           200 non-null    object \n",
            " 3   Cholesterol  200 non-null    object \n",
            " 4   Na_to_K      200 non-null    float64\n",
            " 5   Drug         200 non-null    object \n",
            "dtypes: float64(1), int64(1), object(4)\n",
            "memory usage: 9.5+ KB\n"
          ]
        }
      ]
    },
    {
      "cell_type": "markdown",
      "metadata": {
        "id": "dsc3v_wwlE4v"
      },
      "source": [
        "**The dataset has 1 float, 1 integer and 4 object columns.**\n",
        "\n",
        "### Attribute Description:-\n",
        "\n",
        "    Age: stores the age of patient\n",
        "    Sex: stores the gender of patients\n",
        "    BP: contains blood pressure of patient\n",
        "    Cholesterol: stores cholesterol of patient\n",
        "    Na_to_K: contains Sodium to Potassium ratio in blood\n",
        "    Drug: contains he drug type given to patients\n",
        "\n",
        "Now let us check for any missing values in this Dataset\n"
      ]
    },
    {
      "cell_type": "code",
      "metadata": {
        "colab": {
          "base_uri": "https://localhost:8080/"
        },
        "id": "F_dBTfEYllbo",
        "outputId": "25ec02ef-6f97-45bc-a09f-4f88ee5a2c65"
      },
      "source": [
        "df.isnull().sum()"
      ],
      "execution_count": null,
      "outputs": [
        {
          "output_type": "execute_result",
          "data": {
            "text/plain": [
              "Age            0\n",
              "Sex            0\n",
              "BP             0\n",
              "Cholesterol    0\n",
              "Na_to_K        0\n",
              "Drug           0\n",
              "dtype: int64"
            ]
          },
          "metadata": {},
          "execution_count": 22
        }
      ]
    },
    {
      "cell_type": "code",
      "metadata": {
        "colab": {
          "base_uri": "https://localhost:8080/",
          "height": 49
        },
        "id": "qbwe8L83mC-U",
        "outputId": "f43ad146-3729-46a3-fde7-1ade47a48382"
      },
      "source": [
        "#So as it is visible, The dataset doesn't have any null values. Now let us check if there is any duplicate values in it.\n",
        "\n",
        "duplicate = df[df.duplicated()]\n",
        "duplicate"
      ],
      "execution_count": null,
      "outputs": [
        {
          "output_type": "execute_result",
          "data": {
            "text/html": [
              "<div>\n",
              "<style scoped>\n",
              "    .dataframe tbody tr th:only-of-type {\n",
              "        vertical-align: middle;\n",
              "    }\n",
              "\n",
              "    .dataframe tbody tr th {\n",
              "        vertical-align: top;\n",
              "    }\n",
              "\n",
              "    .dataframe thead th {\n",
              "        text-align: right;\n",
              "    }\n",
              "</style>\n",
              "<table border=\"1\" class=\"dataframe\">\n",
              "  <thead>\n",
              "    <tr style=\"text-align: right;\">\n",
              "      <th></th>\n",
              "      <th>Age</th>\n",
              "      <th>Sex</th>\n",
              "      <th>BP</th>\n",
              "      <th>Cholesterol</th>\n",
              "      <th>Na_to_K</th>\n",
              "      <th>Drug</th>\n",
              "    </tr>\n",
              "  </thead>\n",
              "  <tbody>\n",
              "  </tbody>\n",
              "</table>\n",
              "</div>"
            ],
            "text/plain": [
              "Empty DataFrame\n",
              "Columns: [Age, Sex, BP, Cholesterol, Na_to_K, Drug]\n",
              "Index: []"
            ]
          },
          "metadata": {},
          "execution_count": 23
        }
      ]
    },
    {
      "cell_type": "code",
      "metadata": {
        "colab": {
          "base_uri": "https://localhost:8080/"
        },
        "id": "vEh_D0HlqNAZ",
        "outputId": "d1acb7d8-4eee-4397-d8b2-e85d227e57e6"
      },
      "source": [
        "# Find minimum and maximum age\n",
        "\n",
        "print(\"Minimum Age is {} years\".format(df['Age'].min()))\n",
        "print(\"Maximum Age is {} years\".format(df['Age'].max()))"
      ],
      "execution_count": null,
      "outputs": [
        {
          "output_type": "stream",
          "name": "stdout",
          "text": [
            "Minimum Age is 15 years\n",
            "Maximum Age is 74 years\n"
          ]
        }
      ]
    },
    {
      "cell_type": "code",
      "metadata": {
        "colab": {
          "base_uri": "https://localhost:8080/"
        },
        "id": "i-E_oulnqRxM",
        "outputId": "bb721611-1a5a-4999-ebc0-8f2a9b37e785"
      },
      "source": [
        "# Find unique values in categorical attributes\n",
        "\n",
        "print(\"Sex:\", df['Sex'].unique())\n",
        "print(\"BP:\", df['BP'].unique())\n",
        "print(\"Cholesterol:\", df['Cholesterol'].unique())\n",
        "print(\"Drug:\", df['Drug'].unique())"
      ],
      "execution_count": null,
      "outputs": [
        {
          "output_type": "stream",
          "name": "stdout",
          "text": [
            "Sex: ['F' 'M']\n",
            "BP: ['HIGH' 'LOW' 'NORMAL']\n",
            "Cholesterol: ['HIGH' 'NORMAL']\n",
            "Drug: ['DrugY' 'drugC' 'drugX' 'drugA' 'drugB']\n"
          ]
        }
      ]
    },
    {
      "cell_type": "code",
      "metadata": {
        "colab": {
          "base_uri": "https://localhost:8080/",
          "height": 1000
        },
        "id": "YBYUkooSqeQ5",
        "outputId": "63ee485b-5f1c-42aa-a922-69e9a78448c0"
      },
      "source": [
        "#Anyalying the dataset by ploting various graphs!\n",
        "\n",
        "# Analyze Cholesterol based on Sex\n",
        "\n",
        "df_Sex_Cholesterol = df.groupby([\"Sex\", \"Cholesterol\"]).size().reset_index(name = \"Count\")\n",
        "\n",
        "plt.figure(figsize = (10,10))\n",
        "sns.barplot(x = \"Sex\", y = \"Count\", hue = \"Cholesterol\", data = df_Sex_Cholesterol)\n",
        "plt.title(\"Sex - Cholesterol\", fontsize=20, fontweight='bold')\n",
        "plt.show()\n",
        "\n",
        "\n",
        "# Analyze BP based on Sex\n",
        "\n",
        "df_Sex_BP = df.groupby([\"Sex\", \"BP\"]).size().reset_index(name = \"Count\")\n",
        "\n",
        "plt.figure(figsize = (10,7))\n",
        "sns.barplot(x = \"Sex\", y = \"Count\", hue = \"BP\", data = df_Sex_BP)\n",
        "plt.title(\"Sex - BP\", fontsize=20, fontweight='bold')\n",
        "plt.show()\n",
        "\n",
        "# Analyze Drug based on Age\n",
        "\n",
        "plt.figure(figsize = (10,6))\n",
        "sns.swarmplot(x = \"Drug\", y = \"Age\", data = df)\n",
        "plt.legend(df.Drug.value_counts().index)\n",
        "plt.title(\"Age vs Drug\", fontsize=20, fontweight='bold')\n",
        "plt.show()\n",
        "\n",
        "# Analyze Drug based on Sex\n",
        "\n",
        "df_Sex_Drug = df.groupby([\"Drug\", \"Sex\"]).size().reset_index(name = \"Count\")\n",
        "\n",
        "plt.figure(figsize = (9,5))\n",
        "sns.barplot(x = \"Drug\", y = \"Count\", hue = \"Sex\", data = df_Sex_Drug)\n",
        "plt.title(\"Sex - Drug\", fontsize=20, fontweight='bold')\n",
        "plt.show()\n",
        "\n",
        "\n",
        "# Analyze Drug based on Na_to_K\n",
        "\n",
        "plt.figure(figsize = (10,6))\n",
        "sns.swarmplot(x = \"Drug\", y = \"Na_to_K\", data = df)\n",
        "plt.legend(df.Drug.value_counts().index)\n",
        "plt.title(\"Na_to_K vs Drug\", fontsize=20, fontweight='bold')\n",
        "plt.show()\n",
        "\n",
        "# Analyze Drug based on BP\n",
        "\n",
        "df_Sex_Drug = df.groupby([\"Drug\", \"BP\"]).size().reset_index(name = \"Count\")\n",
        "\n",
        "plt.figure(figsize = (9,5))\n",
        "sns.barplot(x = \"Drug\", y = \"Count\", hue = \"BP\", data = df_Sex_Drug)\n",
        "plt.title(\"BP - Drug\", fontsize=20, fontweight='bold')\n",
        "plt.legend(loc='upper center')\n",
        "plt.show()\n",
        "\n",
        "# Distribution of Drug\n",
        "\n",
        "sns.countplot(x='Drug', data=df)\n",
        "plt.xlabel('Drug')\n",
        "\n",
        "\n",
        "# Encoding categorical variables\n",
        "\n",
        "from sklearn.preprocessing import LabelEncoder\n",
        "\n",
        "def label_encoder(x):\n",
        "    le = LabelEncoder()\n",
        "    df[x] = le.fit_transform(df[x])\n",
        "\n",
        "lables = ['Sex', 'BP', 'Cholesterol', 'Drug']\n",
        "for i in lables:\n",
        "    label_encoder(i)\n"
      ],
      "execution_count": 77,
      "outputs": [
        {
          "output_type": "display_data",
          "data": {
            "image/png": "[encoded data removed]",
            "text/plain": [
              "<Figure size 720x720 with 1 Axes>"
            ]
          },
          "metadata": {
            "needs_background": "light"
          }
        },
        {
          "output_type": "display_data",
          "data": {
            "image/png": "[encoded data removed]",
            "text/plain": [
              "<Figure size 720x504 with 1 Axes>"
            ]
          },
          "metadata": {
            "needs_background": "light"
          }
        },
        {
          "output_type": "display_data",
          "data": {
            "image/png": "[encoded data removed]",
            "text/plain": [
              "<Figure size 720x432 with 1 Axes>"
            ]
          },
          "metadata": {
            "needs_background": "light"
          }
        },
        {
          "output_type": "display_data",
          "data": {
            "image/png": "[encoded data removed]",
            "text/plain": [
              "<Figure size 648x360 with 1 Axes>"
            ]
          },
          "metadata": {
            "needs_background": "light"
          }
        },
        {
          "output_type": "display_data",
          "data": {
            "image/png": "[encoded data removed]",
            "text/plain": [
              "<Figure size 720x432 with 1 Axes>"
            ]
          },
          "metadata": {
            "needs_background": "light"
          }
        },
        {
          "output_type": "display_data",
          "data": {
            "image/png": "[encoded data removed]",
            "text/plain": [
              "<Figure size 648x360 with 1 Axes>"
            ]
          },
          "metadata": {
            "needs_background": "light"
          }
        },
        {
          "output_type": "display_data",
          "data": {
            "image/png": "[encoded data removed]",
            "text/plain": [
              "<Figure size 432x288 with 1 Axes>"
            ]
          },
          "metadata": {
            "needs_background": "light"
          }
        }
      ]
    },
    {
      "cell_type": "code",
      "metadata": {
        "colab": {
          "base_uri": "https://localhost:8080/",
          "height": 424
        },
        "id": "XrkXMJMCrcoO",
        "outputId": "58a34a99-c3a0-4c01-c041-8718e043381c"
      },
      "source": [
        "df\n"
      ],
      "execution_count": null,
      "outputs": [
        {
          "output_type": "execute_result",
          "data": {
            "text/html": [
              "<div>\n",
              "<style scoped>\n",
              "    .dataframe tbody tr th:only-of-type {\n",
              "        vertical-align: middle;\n",
              "    }\n",
              "\n",
              "    .dataframe tbody tr th {\n",
              "        vertical-align: top;\n",
              "    }\n",
              "\n",
              "    .dataframe thead th {\n",
              "        text-align: right;\n",
              "    }\n",
              "</style>\n",
              "<table border=\"1\" class=\"dataframe\">\n",
              "  <thead>\n",
              "    <tr style=\"text-align: right;\">\n",
              "      <th></th>\n",
              "      <th>Age</th>\n",
              "      <th>Sex</th>\n",
              "      <th>BP</th>\n",
              "      <th>Cholesterol</th>\n",
              "      <th>Na_to_K</th>\n",
              "      <th>Drug</th>\n",
              "    </tr>\n",
              "  </thead>\n",
              "  <tbody>\n",
              "    <tr>\n",
              "      <th>0</th>\n",
              "      <td>23</td>\n",
              "      <td>0</td>\n",
              "      <td>0</td>\n",
              "      <td>0</td>\n",
              "      <td>25.355</td>\n",
              "      <td>0</td>\n",
              "    </tr>\n",
              "    <tr>\n",
              "      <th>1</th>\n",
              "      <td>47</td>\n",
              "      <td>1</td>\n",
              "      <td>1</td>\n",
              "      <td>0</td>\n",
              "      <td>13.093</td>\n",
              "      <td>3</td>\n",
              "    </tr>\n",
              "    <tr>\n",
              "      <th>2</th>\n",
              "      <td>47</td>\n",
              "      <td>1</td>\n",
              "      <td>1</td>\n",
              "      <td>0</td>\n",
              "      <td>10.114</td>\n",
              "      <td>3</td>\n",
              "    </tr>\n",
              "    <tr>\n",
              "      <th>3</th>\n",
              "      <td>28</td>\n",
              "      <td>0</td>\n",
              "      <td>2</td>\n",
              "      <td>0</td>\n",
              "      <td>7.798</td>\n",
              "      <td>4</td>\n",
              "    </tr>\n",
              "    <tr>\n",
              "      <th>4</th>\n",
              "      <td>61</td>\n",
              "      <td>0</td>\n",
              "      <td>1</td>\n",
              "      <td>0</td>\n",
              "      <td>18.043</td>\n",
              "      <td>0</td>\n",
              "    </tr>\n",
              "    <tr>\n",
              "      <th>...</th>\n",
              "      <td>...</td>\n",
              "      <td>...</td>\n",
              "      <td>...</td>\n",
              "      <td>...</td>\n",
              "      <td>...</td>\n",
              "      <td>...</td>\n",
              "    </tr>\n",
              "    <tr>\n",
              "      <th>195</th>\n",
              "      <td>56</td>\n",
              "      <td>0</td>\n",
              "      <td>1</td>\n",
              "      <td>0</td>\n",
              "      <td>11.567</td>\n",
              "      <td>3</td>\n",
              "    </tr>\n",
              "    <tr>\n",
              "      <th>196</th>\n",
              "      <td>16</td>\n",
              "      <td>1</td>\n",
              "      <td>1</td>\n",
              "      <td>0</td>\n",
              "      <td>12.006</td>\n",
              "      <td>3</td>\n",
              "    </tr>\n",
              "    <tr>\n",
              "      <th>197</th>\n",
              "      <td>52</td>\n",
              "      <td>1</td>\n",
              "      <td>2</td>\n",
              "      <td>0</td>\n",
              "      <td>9.894</td>\n",
              "      <td>4</td>\n",
              "    </tr>\n",
              "    <tr>\n",
              "      <th>198</th>\n",
              "      <td>23</td>\n",
              "      <td>1</td>\n",
              "      <td>2</td>\n",
              "      <td>1</td>\n",
              "      <td>14.020</td>\n",
              "      <td>4</td>\n",
              "    </tr>\n",
              "    <tr>\n",
              "      <th>199</th>\n",
              "      <td>40</td>\n",
              "      <td>0</td>\n",
              "      <td>1</td>\n",
              "      <td>1</td>\n",
              "      <td>11.349</td>\n",
              "      <td>4</td>\n",
              "    </tr>\n",
              "  </tbody>\n",
              "</table>\n",
              "<p>200 rows × 6 columns</p>\n",
              "</div>"
            ],
            "text/plain": [
              "     Age  Sex  BP  Cholesterol  Na_to_K  Drug\n",
              "0     23    0   0            0   25.355     0\n",
              "1     47    1   1            0   13.093     3\n",
              "2     47    1   1            0   10.114     3\n",
              "3     28    0   2            0    7.798     4\n",
              "4     61    0   1            0   18.043     0\n",
              "..   ...  ...  ..          ...      ...   ...\n",
              "195   56    0   1            0   11.567     3\n",
              "196   16    1   1            0   12.006     3\n",
              "197   52    1   2            0    9.894     4\n",
              "198   23    1   2            1   14.020     4\n",
              "199   40    0   1            1   11.349     4\n",
              "\n",
              "[200 rows x 6 columns]"
            ]
          },
          "metadata": {},
          "execution_count": 37
        }
      ]
    },
    {
      "cell_type": "markdown",
      "metadata": {
        "id": "lnO0esu4rjrJ"
      },
      "source": [
        "\n",
        "### **Modeling: Splitting the data into training and testing set for comparing performances.**\n"
      ]
    },
    {
      "cell_type": "code",
      "metadata": {
        "colab": {
          "base_uri": "https://localhost:8080/"
        },
        "id": "fUQaGcPmmr1u",
        "outputId": "654a03ab-82e6-409b-f420-4b00b8a656a8"
      },
      "source": [
        "X = df.iloc[:, :-1]        # independent variable\n",
        "y = df.iloc[:, -1]         # dependent variable\n",
        "\n",
        "X_train, X_test, y_train, y_test = train_test_split(X, y, test_size=0.2, random_state=42)\n",
        "\n",
        "print(X_train.shape, X_test.shape, y_train.shape, y_test.shape)"
      ],
      "execution_count": null,
      "outputs": [
        {
          "output_type": "stream",
          "name": "stdout",
          "text": [
            "(160, 5) (40, 5) (160,) (40,)\n"
          ]
        }
      ]
    },
    {
      "cell_type": "markdown",
      "metadata": {
        "id": "4K57H4O_oM8R"
      },
      "source": [
        "## 1)  Decision Tree Classifier"
      ]
    },
    {
      "cell_type": "code",
      "metadata": {
        "colab": {
          "base_uri": "https://localhost:8080/"
        },
        "id": "mSOUTVDfncSk",
        "outputId": "1c09065b-7e7b-43c4-fd96-e773711c71a1"
      },
      "source": [
        "dt = DecisionTreeClassifier()\n",
        "dt.fit(X_train, y_train)"
      ],
      "execution_count": null,
      "outputs": [
        {
          "output_type": "execute_result",
          "data": {
            "text/plain": [
              "DecisionTreeClassifier(ccp_alpha=0.0, class_weight=None, criterion='gini',\n",
              "                       max_depth=None, max_features=None, max_leaf_nodes=None,\n",
              "                       min_impurity_decrease=0.0, min_impurity_split=None,\n",
              "                       min_samples_leaf=1, min_samples_split=2,\n",
              "                       min_weight_fraction_leaf=0.0, presort='deprecated',\n",
              "                       random_state=None, splitter='best')"
            ]
          },
          "metadata": {},
          "execution_count": 41
        }
      ]
    },
    {
      "cell_type": "code",
      "metadata": {
        "colab": {
          "base_uri": "https://localhost:8080/"
        },
        "id": "Kb7A0EzIpi1r",
        "outputId": "e22d79ed-c954-4cb2-8df4-5111ac9c08e2"
      },
      "source": [
        "y_pred_dt = dt.predict(X_test)\n",
        "y_pred_dt"
      ],
      "execution_count": null,
      "outputs": [
        {
          "output_type": "execute_result",
          "data": {
            "text/plain": [
              "array([4, 0, 4, 3, 0, 0, 0, 4, 1, 4, 1, 4, 0, 1, 2, 0, 2, 4, 3, 0, 2, 4,\n",
              "       4, 0, 0, 0, 3, 4, 0, 4, 0, 3, 3, 0, 1, 0, 4, 1, 0, 1])"
            ]
          },
          "metadata": {},
          "execution_count": 42
        }
      ]
    },
    {
      "cell_type": "code",
      "metadata": {
        "colab": {
          "base_uri": "https://localhost:8080/"
        },
        "id": "5H3Ks8OBsBx0",
        "outputId": "e301b1db-d619-451c-bb7f-150aad7be1bd"
      },
      "source": [
        "# F1 score\n",
        "\n",
        "dt_f1_score = f1_score(y_test, y_pred_dt, average='weighted')\n",
        "dt_f1_score\n",
        "print(\"F1 Score is : \",dt_f1_score)\n",
        "print(\"_________________________________________________________\")\n",
        "print()\n",
        "print(classification_report(y_test, y_pred_dt))"
      ],
      "execution_count": null,
      "outputs": [
        {
          "output_type": "stream",
          "name": "stdout",
          "text": [
            "F1 Score is :  1.0\n",
            "_________________________________________________________\n",
            "\n",
            "              precision    recall  f1-score   support\n",
            "\n",
            "           0       1.00      1.00      1.00        15\n",
            "           1       1.00      1.00      1.00         6\n",
            "           2       1.00      1.00      1.00         3\n",
            "           3       1.00      1.00      1.00         5\n",
            "           4       1.00      1.00      1.00        11\n",
            "\n",
            "    accuracy                           1.00        40\n",
            "   macro avg       1.00      1.00      1.00        40\n",
            "weighted avg       1.00      1.00      1.00        40\n",
            "\n"
          ]
        }
      ]
    },
    {
      "cell_type": "code",
      "metadata": {
        "colab": {
          "base_uri": "https://localhost:8080/"
        },
        "id": "Jqoeu4HssyS3",
        "outputId": "9a41b441-2460-4a14-f720-f54b0caa4c7c"
      },
      "source": [
        "cm = confusion_matrix(y_test, y_pred_dt)\n",
        "cm"
      ],
      "execution_count": null,
      "outputs": [
        {
          "output_type": "execute_result",
          "data": {
            "text/plain": [
              "array([[15,  0,  0,  0,  0],\n",
              "       [ 0,  6,  0,  0,  0],\n",
              "       [ 0,  0,  3,  0,  0],\n",
              "       [ 0,  0,  0,  5,  0],\n",
              "       [ 0,  0,  0,  0, 11]])"
            ]
          },
          "metadata": {},
          "execution_count": 52
        }
      ]
    },
    {
      "cell_type": "markdown",
      "metadata": {
        "id": "w8PM-amgs2xN"
      },
      "source": [
        "### **Hence, Decision Tree Classifier shows a 100% accuracy.**"
      ]
    },
    {
      "cell_type": "markdown",
      "metadata": {
        "id": "usIh7qKOtTFJ"
      },
      "source": [
        "## 2) K-NN Classifier :"
      ]
    },
    {
      "cell_type": "code",
      "metadata": {
        "colab": {
          "base_uri": "https://localhost:8080/"
        },
        "id": "Md18yUIqtjeS",
        "outputId": "4cd5dfc0-93a0-416b-ce64-eb7eb975eacd"
      },
      "source": [
        "Grid = {'n_neighbors': np.arange(1,100)}\n",
        "\n",
        "knn = KNeighborsClassifier()\n",
        "knn_cv = GridSearchCV(knn, grid)\n",
        "knn_cv.fit(X_train, y_train)\n",
        "\n",
        "print(\"Hyperparameters Used:\", knn_cv.best_params_)\n",
        "print(\"Test Score:\", knn_cv.score(X_test, y_test))"
      ],
      "execution_count": null,
      "outputs": [
        {
          "output_type": "stream",
          "name": "stdout",
          "text": [
            "Hyperparameters Used: {'n_neighbors': 7}\n",
            "Test Score: 0.65\n"
          ]
        }
      ]
    },
    {
      "cell_type": "code",
      "metadata": {
        "colab": {
          "base_uri": "https://localhost:8080/"
        },
        "id": "3s-eOUaoulVX",
        "outputId": "278ff406-b328-4ae7-c43c-1cfdb2a96048"
      },
      "source": [
        "y_pred_knn = knn_cv.predict(X_test)\n",
        "y_pred_knn"
      ],
      "execution_count": null,
      "outputs": [
        {
          "output_type": "execute_result",
          "data": {
            "text/plain": [
              "array([4, 4, 4, 2, 0, 0, 0, 1, 0, 4, 1, 4, 0, 4, 2, 0, 4, 2, 1, 0, 4, 2,\n",
              "       4, 0, 0, 0, 3, 4, 0, 4, 0, 4, 4, 0, 1, 0, 2, 1, 0, 4])"
            ]
          },
          "metadata": {},
          "execution_count": 61
        }
      ]
    },
    {
      "cell_type": "code",
      "metadata": {
        "colab": {
          "base_uri": "https://localhost:8080/"
        },
        "id": "MimcZ32ZvEpU",
        "outputId": "c960d1d8-ad9c-44f0-d2ab-208e5d1965a7"
      },
      "source": [
        "# F1 score\n",
        "\n",
        "knn_f1_score = f1_score(y_test, y_pred_knn, average='weighted')\n",
        "knn_f1_score"
      ],
      "execution_count": null,
      "outputs": [
        {
          "output_type": "execute_result",
          "data": {
            "text/plain": [
              "0.6462348484848486"
            ]
          },
          "metadata": {},
          "execution_count": 62
        }
      ]
    },
    {
      "cell_type": "code",
      "metadata": {
        "colab": {
          "base_uri": "https://localhost:8080/"
        },
        "id": "sAYhKPPjvISF",
        "outputId": "405edcf9-ccb4-4232-dd7a-9570252a0085"
      },
      "source": [
        "print(classification_report(y_test, y_pred_knn))"
      ],
      "execution_count": null,
      "outputs": [
        {
          "output_type": "stream",
          "name": "stdout",
          "text": [
            "              precision    recall  f1-score   support\n",
            "\n",
            "           0       0.93      0.93      0.93        15\n",
            "           1       0.60      0.50      0.55         6\n",
            "           2       0.20      0.33      0.25         3\n",
            "           3       1.00      0.20      0.33         5\n",
            "           4       0.50      0.64      0.56        11\n",
            "\n",
            "    accuracy                           0.65        40\n",
            "   macro avg       0.65      0.52      0.52        40\n",
            "weighted avg       0.72      0.65      0.65        40\n",
            "\n"
          ]
        }
      ]
    },
    {
      "cell_type": "code",
      "metadata": {
        "colab": {
          "base_uri": "https://localhost:8080/",
          "height": 331
        },
        "id": "p6DkFcaTvTPm",
        "outputId": "3db5cc3d-6a0d-40fe-cb80-97fa494031aa"
      },
      "source": [
        "cm = confusion_matrix(y_test, y_pred_knn)\n",
        "\n",
        "plt.figure(figsize=(5,5))\n",
        "\n",
        "sns.heatmap(data=cm,linewidths=.5, annot=True,square = True,  cmap = 'Blues')\n",
        "\n",
        "plt.ylabel('Actual label')\n",
        "plt.xlabel('Predicted label')\n",
        "\n",
        "all_sample_title = 'Accuracy Score: {0}'.format(knn_cv.score(X_test, y_test))\n",
        "plt.title(all_sample_title, size = 15)"
      ],
      "execution_count": null,
      "outputs": [
        {
          "output_type": "execute_result",
          "data": {
            "text/plain": [
              "Text(0.5, 1.0, 'Accuracy Score: 0.65')"
            ]
          },
          "metadata": {},
          "execution_count": 64
        },
        {
          "output_type": "display_data",
          "data": {
            "image/png": "[encoded data removed]",
            "text/plain": [
              "<Figure size 360x360 with 2 Axes>"
            ]
          },
          "metadata": {
            "needs_background": "light"
          }
        }
      ]
    },
    {
      "cell_type": "markdown",
      "metadata": {
        "id": "y8nHjq8fvWIC"
      },
      "source": [
        "\n",
        "### **So, K Nearest Neighbors Classifier only gave an accuracy of 65%**\n"
      ]
    },
    {
      "cell_type": "markdown",
      "metadata": {
        "id": "9RoBUfA6wAcy"
      },
      "source": [
        "## 3) Naive Bayes Classification :"
      ]
    },
    {
      "cell_type": "code",
      "metadata": {
        "colab": {
          "base_uri": "https://localhost:8080/"
        },
        "id": "s8vO9cXSxGmz",
        "outputId": "3ecdd52b-5581-4cfc-9e1d-cb31f2875777"
      },
      "source": [
        "clf = DecisionTreeClassifier(max_depth=5).fit(X_train, y_train)\n",
        "print('Training Score: {:.2f}'.format(clf.score(X_train, y_train)))\n",
        "print('Testing Score: {:.2f}'.format(clf.score(X_test, y_test)))\n",
        "\n",
        "scaler = StandardScaler()\n",
        "scaler.fit(X_train)\n",
        "x_test_scaled = scaler.transform(X_test)\n",
        "y_pred_n  = clf.predict(x_test_scaled)\n",
        "nb = naive_bayes.GaussianNB()\n",
        "nb.fit(X_train, y_train)\n",
        "nb_acc = 100*nb.score(X_test, y_test)\n",
        "print('Naive Bayes Predictions: \\n', nb.predict(X_test), '\\n Accuracy:', nb_acc, '%')\n",
        "\n",
        "#print(classification_report(y_test,y_pred_n))"
      ],
      "execution_count": 76,
      "outputs": [
        {
          "output_type": "stream",
          "name": "stdout",
          "text": [
            "Training Score: 1.00\n",
            "Testing Score: 1.00\n",
            "Naive Bayes Predictions: \n",
            " [4 1 4 3 0 2 0 4 1 4 1 4 3 1 2 0 2 4 3 0 2 4 4 0 0 0 3 4 0 4 0 3 3 0 1 0 4\n",
            " 1 0 1] \n",
            " Accuracy: 92.5 %\n"
          ]
        }
      ]
    },
    {
      "cell_type": "markdown",
      "metadata": {
        "id": "nvuifgYO22bY"
      },
      "source": [
        "### **Here, Bayesian classifieronly gave an accuracy of 92.5%**"
      ]
    },
    {
      "cell_type": "markdown",
      "metadata": {
        "id": "4bGVvnCW3q7F"
      },
      "source": [
        "**Hence, on comparing the performance of these models on the given dataset it is concluded that :**\n",
        "\n",
        "# *Accuracry of DT* **>** *Accuracy of Bayesian Classifier* **>** *Accuracy of K-NN*\n",
        "\n",
        "\n",
        "\n",
        "\n",
        "---\n",
        "\n",
        "Submitted by : Subham Sharma\n",
        "\n",
        "Roll No. : 58\n",
        "\n",
        "Thankyou ☺\n"
      ]
    }
  ]
}